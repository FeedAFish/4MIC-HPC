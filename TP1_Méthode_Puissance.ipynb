{
 "cells": [
  {
   "cell_type": "markdown",
   "metadata": {},
   "source": [
    "# Analyse Numérique GMM4 - Travaux Pratiques"
   ]
  },
  {
   "cell_type": "code",
   "execution_count": 6,
   "metadata": {},
   "outputs": [],
   "source": [
    "import numpy as np\n",
    "import scipy as sp\n",
    "import scipy.sparse\n",
    "import scipy.sparse.linalg\n",
    "import numpy.linalg as npl\n",
    "import scipy.linalg as spl\n",
    "import matplotlib.pyplot as plt\n",
    "#M = np.load(\"Matrice.npy\")"
   ]
  },
  {
   "cell_type": "markdown",
   "metadata": {},
   "source": [
    "## TP 1 - La méthode de la puissance "
   ]
  },
  {
   "cell_type": "markdown",
   "metadata": {},
   "source": [
    "L'objectif de ce TP l'observation du comportement de diverses stratégies \n",
    "associées à la méthode de la puissance, ou de la puissance inverse.\n",
    "\n",
    "On se placera dans le cas ou la matrice $M$ dont on veut calculer une valeur\n",
    "propre est symétrique.\n"
   ]
  },
  {
   "cell_type": "markdown",
   "metadata": {},
   "source": [
    "On va s'intéresser à la méthode de la puissance inverse pour le calcul \n",
    "de la plus petite valeur propre d'une matrice $M$  qui vous est fournie, \n",
    "dans le fichier Matrice.mat. La matrice $M$ est symétrique \n",
    "définie positive. \n",
    "Comme nous voulons comparer différentes méthodes, le vecteur initial des \n",
    "iterations \n",
    "sera un argument des fonctions mettant en oeuvre les différentes méthodes."
   ]
  },
  {
   "cell_type": "markdown",
   "metadata": {},
   "source": [
    "#### Les fonctions PinvInf et PinvN2"
   ]
  },
  {
   "cell_type": "markdown",
   "metadata": {},
   "source": [
    "Créer les fonction PinvInf et PinvN2. La première de ces fonctions mettra en oeuvre l'algorithme de la table 1.1, \n",
    "page 13 du polycopié, et la seconde adaptera ce dernier mais dans le cadre d'une norme infinie. \n",
    "Pour chaque methode, le test de convergence se fera sur l'écart entre deux itérés successifs de la valeur propre approximée. Le nombre maximum\n",
    "d'iterations sera limité à deux fois la taille du problème."
   ]
  },
  {
   "cell_type": "code",
   "execution_count": 4,
   "metadata": {},
   "outputs": [],
   "source": [
    "def PinvInf(A,x,tol):\n",
    "    # Arguments en entrée:\n",
    "    # A : la matrice\n",
    "    # x : le vecteur initial\n",
    "    # tol : le seuil de précision de la méthode\n",
    "    # Arguments en sortie:\n",
    "    # l : la plus petite valeur propre de la matrice A\n",
    "    # u : le vecteur propre associé à l\n",
    "    # Niter : le nombre d'itérations de la méthode\n",
    "    \n",
    "    \n",
    "    return l,u,Niter"
   ]
  },
  {
   "cell_type": "code",
   "execution_count": null,
   "metadata": {
    "collapsed": true
   },
   "outputs": [],
   "source": [
    "def PinvN2(A,x,tol):\n",
    "    # Arguments en entrée:\n",
    "    # A : la matrice\n",
    "    # x : le vecteur initial\n",
    "    # tol : le seuil de précision de la méthode\n",
    "    # Arguments en sortie:\n",
    "    # l : la plus petite valeur propre de la matrice A\n",
    "    # u : le vecteur propre associé à l\n",
    "    # Niter : le nombre d'itérations de la méthode\n",
    "    \n",
    "    return l,u,Niter"
   ]
  },
  {
   "cell_type": "markdown",
   "metadata": {},
   "source": [
    "#### Les fonctions TinvInf et TinvN2"
   ]
  },
  {
   "cell_type": "markdown",
   "metadata": {},
   "source": [
    "Modifier ces fonctions pour qu'elles mettent en oeuvre une stratégie\n",
    "de translation-inversion de façon à chercher la valeur propre la plus\n",
    "proche d'un nombre donné. Vous appelerez ces fonctions TinvInf et TinvN2 ; cette stratégie est décrite à la section 1.2.2, page 17 du polycopié. On ajoutera le paramètre $\\sigma $ à la liste des variables en entrée."
   ]
  },
  {
   "cell_type": "code",
   "execution_count": null,
   "metadata": {
    "collapsed": true
   },
   "outputs": [],
   "source": [
    "def TinvInf(A,x,sigma,tol):\n",
    "    # Arguments en entrée:\n",
    "    # A : la matrice\n",
    "    # x : le vecteur initial\n",
    "    # sigma : la valeur du shift\n",
    "    # tol : le seuil de précision de la méthode\n",
    "    # Arguments en sortie:\n",
    "    # l : la valeur propre la plus proche de sigma\n",
    "    # u : le vecteur propre associé à l\n",
    "    # Niter : le nombre d'itérations de la méthode\n",
    "    \n",
    "    return l,u,Niter"
   ]
  },
  {
   "cell_type": "code",
   "execution_count": null,
   "metadata": {
    "collapsed": true
   },
   "outputs": [],
   "source": [
    "def TinvN2(A,x,sigma,tol):\n",
    "    # Arguments en entrée:\n",
    "    # A : la matrice\n",
    "    # x : le vecteur initial\n",
    "    # sigma : la valeur du shift\n",
    "    # tol : le seuil de précision de la méthode\n",
    "    # Arguments en sortie:\n",
    "    # l : la valeur propre la plus proche de sigma\n",
    "    # u : le vecteur propre associé à l\n",
    "    # Niter : le nombre d'itérations de la méthode\n",
    "    \n",
    "    return l,u,Niter"
   ]
  },
  {
   "cell_type": "markdown",
   "metadata": {},
   "source": [
    "#### Test de la vitesse de convergence des méthodes"
   ]
  },
  {
   "cell_type": "markdown",
   "metadata": {},
   "source": [
    "On calcule l'ensemble des valeurs propres de la matrice $M$ à l'aide de la fonction eig de numpy.linalg."
   ]
  },
  {
   "cell_type": "code",
   "execution_count": null,
   "metadata": {
    "collapsed": true
   },
   "outputs": [],
   "source": [
    "valP,vecP = npl.eig(M)\n",
    "valP = sorted(valP,reverse = True)"
   ]
  },
  {
   "cell_type": "markdown",
   "metadata": {},
   "source": [
    " Tester la vitesse de convergence vers la 4ème valeur propre selon\n",
    "$\\sigma $, lorsqu'elles sont \n",
    "  rangées suivant l'ordre décroissant ; on choisira des valeurs de  de \n",
    "la forme \n",
    "$ \\sigma = \\left( \\frac{\\lambda_4 + \\lambda _5}{2} \\right) \n",
    " + \\frac{i}{10}\\, \\left( \\frac{\\lambda_4 - \\lambda _5}{2} \\right) $, \n",
    "$1\\leq i \\leq 9$."
   ]
  },
  {
   "cell_type": "code",
   "execution_count": null,
   "metadata": {
    "collapsed": true
   },
   "outputs": [],
   "source": []
  },
  {
   "cell_type": "markdown",
   "metadata": {},
   "source": [
    "#### La fonction Rayleigh"
   ]
  },
  {
   "cell_type": "markdown",
   "metadata": {},
   "source": [
    "Ecrire une fonction Rayleigh qui modifie TinvN2 \n",
    "suivant l'algorithme du tableau 3.3, page 65 du polycopié."
   ]
  },
  {
   "cell_type": "code",
   "execution_count": null,
   "metadata": {
    "collapsed": true
   },
   "outputs": [],
   "source": [
    "def Rayleigh(A,x,tol):\n",
    "    # Arguments en entrée:\n",
    "    # A : la matrice\n",
    "    # x : le vecteur initial\n",
    "    # tol : le seuil de précision de la méthode\n",
    "    # Arguments en sortie:\n",
    "    # l : la valeur propre associée à u\n",
    "    # u : le vecteur propre le plus proche de x\n",
    "    # Niter : le nombre d'itérations de la méthode\n",
    "    \n",
    "    return l,u,Niter  "
   ]
  },
  {
   "cell_type": "markdown",
   "metadata": {},
   "source": [
    "Proposez une fonction qui combine PinvN2 et  Rayleigh\n",
    "pour le calcul de la plus petite valeur propre. Comparez les différentes \n",
    "méthodes pour la recherche de la plus petite valeur propre."
   ]
  },
  {
   "cell_type": "markdown",
   "metadata": {
    "collapsed": true
   },
   "source": [
    "#### Calculer plusieurs valeurs propres"
   ]
  },
  {
   "cell_type": "markdown",
   "metadata": {},
   "source": [
    "###### L'objectif est de calculer $d$ valeurs propres d'une même matrice symétrique, pour cela à l'itération $k$ on effectuera un algorithme de puissance itérée sur $d$ vecteurs en même temps : $(x_1^k,x_2^k,..x_d^k)$. On calcule donc les vecteurs $$y_i^k=A x_i^k \\text{ pour } i=1..d.$$ Finalement, comme on sait qu'au final les vecteurs propres de $A$ sont orthogonaux, on orthonormalise les vecteurs $(y_1^k,y_2^k,..y_d^k)$ par un procédé standard de Gram-Schmidt et on prend cette base orthonormalisée comme valeur de $(x_1^{k+1},x_2^{k+1},..x_d^{k+1})$.\n",
    "On vous donne ci-dessous un procédé de Gram-Schmidt qui prend une suite de vecteurs (mise sous forme de tableau à deux dimensions) et qui l'orthonormalise."
   ]
  },
  {
   "cell_type": "code",
   "execution_count": 129,
   "metadata": {},
   "outputs": [
    {
     "name": "stdout",
     "output_type": "stream",
     "text": [
      "[[  0.   1.   2.   3.]\n",
      " [  4.   5.   6.   7.]\n",
      " [  8.   9.  10.  11.]\n",
      " [ 12.  13.  14.  15.]\n",
      " [ 16.  17.  18.  19.]]\n",
      "[[  1.00000000e+00   4.24660307e-15  -9.35070396e-01  -3.53266657e-01]\n",
      " [  4.24660307e-15   1.00000000e+00  -3.47997167e-03   5.25627957e-02]\n",
      " [ -9.35070396e-01  -3.47997167e-03   1.00000000e+00  -2.60902411e-15]\n",
      " [ -3.53266657e-01   5.25627957e-02  -2.60902411e-15   1.00000000e+00]]\n"
     ]
    }
   ],
   "source": [
    "def GramSchmidt(Y) :\n",
    "    [n,p]=Y.shape\n",
    "    actual_index=0\n",
    "    for i in np.arange(p) :\n",
    "        for j ine de convergence vers la 4ème valeur propre selon 𝜎, lorsqu'elles sont rangées suivant l'ordre décroissant ; on choisira des valeurs de de la forme 𝜎=(𝜆4+𝜆52)+𝑖10(𝜆4−𝜆52), 1≤𝑖≤9\n",
    "\n",
    ".\n",
    " np.arange(i) :\n",
    "            Y[:,i]-=np.dot(Y[:,i],Y[:,j])*Y[:,j]\n",
    "        Y[:,i]/=np.linalg.norm(Y[:,i])\n",
    "\n",
    "A = np.reshape(np.arange(20,dtype=float),(5,4))\n",
    "print(A)\n",
    "GramSchmidt(A)\n",
    "print(A.T.dot(A))"
   ]
  },
  {
   "cell_type": "markdown",
   "metadata": {},
   "source": [
    "Implémenter un algorithme de calcul des premières valeurs propres. Tester avec la matrice symétrique du Laplacien avec conditions aux bord de Dirichet donné dans la cellule suivante. La formule des premières valeurs propres du Laplacien à $n$ points est :\n",
    "$$ l[k]=\\frac{4}{(n+1)^2}sin^2\\left(\\frac{k\\pi(n+1)}{2}\\right)$$"
   ]
  },
  {
   "cell_type": "code",
   "execution_count": 131,
   "metadata": {
    "collapsed": true
   },
   "outputs": [],
   "source": [
    "def Laplacian(n) :\n",
    "    return (n+1)**2*sp.sparse.diags([2*np.ones(n),-1*np.ones(n-1),-1*np.ones(n-1)], [0, -1, 1]).tocsc()\n",
    "def PinvN2(A,x,tol):\n",
    "    # Arguments en entrée:\n",
    "    # A : la matrice\n",
    "    # x : le vecteur initial (possiblement une matrice)\n",
    "    # tol : le seuil de précision de la méthode\n",
    "    # Arguments en sortie:\n",
    "    # l : les plus petites valeurs propres de la matrice A\n",
    "    # u : les vecteur propres associé à l\n",
    "    # Niter : le nombre d'itérations de la méthode\n",
    "    return l,x,niter\n",
    "\n",
    "n=500\n",
    "p=5\n",
    "x=np.reshape(np.random.rand(n*p),(n,p))\n",
    "l,x,niter=PinvN2(Laplacian(n),x,1.e-6)"
   ]
  },
  {
   "cell_type": "markdown",
   "metadata": {},
   "source": [
    "Le laplacien à $n$ points est la matrice de discrétisation de l'opérateur de dérivée seconde sur l'intervalle $[0,1]$. Trouvez tous les $(u,\\lambda)$ couples de vecteurs propres et de valeurs propres de l'opérateur Laplacien, c'est-à-dire les fonctions $u$ et les réels $\\lambda$ solutions de \n",
    "$$\\begin{cases} u''(x)=\\lambda u(x) \\quad \\text{sur} [0,1] \\\\ u(0)=u(1)=0 \\end{cases}$$\n",
    "Comparer avec les vecteurs propres et les valeurs propres de la matrice du Laplacien\n",
    "\n",
    "Réponse : "
   ]
  },
  {
   "cell_type": "code",
   "execution_count": null,
   "metadata": {
    "collapsed": true
   },
   "outputs": [],
   "source": []
  }
 ],
 "metadata": {
  "kernelspec": {
   "display_name": "Python 3",
   "language": "python",
   "name": "python3"
  },
  "language_info": {
   "codemirror_mode": {
    "name": "ipython",
    "version": 3
   },
   "file_extension": ".py",
   "mimetype": "text/x-python",
   "name": "python",
   "nbconvert_exporter": "python",
   "pygments_lexer": "ipython3",
   "version": "3.8.10"
  }
 },
 "nbformat": 4,
 "nbformat_minor": 1
}
